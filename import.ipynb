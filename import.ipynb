{
 "cells": [
  {
   "cell_type": "code",
   "execution_count": null,
   "metadata": {},
   "outputs": [],
   "source": [
    "locations = {}\n",
    "\n",
    "# Load factors are proportional to revenue for each renewable\n",
    "solar_load_factor = 0.11\n",
    "onshore_wind_load_factor = 0.34\n",
    "offshore_wind_load_factor = 0.51\n",
    "\n",
    "# .csv columns: Area split for the UK, Number of units per region, Generated energy per unit (GWh/year), Weather (sun hours/month), Total capacity (MW), Total energy (GWh), Revenue per unit, Cost per unit, Solar P/L\n",
    "file = open('solar.csv', 'r')\n",
    "solar = file.readlines()\n",
    "for line in solar:\n",
    "    line.strip('\\n')\n",
    "    columns = line.split(',')\n",
    "    locations[columns[0]] = {}\n",
    "    locations[columns[0]]['solar'] = [float(columns[1])*solar_load_factor*float(columns[6]),float(columns[1])*float(columns[7])]\n",
    "file.close()\n",
    "\n",
    "# .csv columns: Area split for the UK, Number of units per region, Total energy (GWh/year), Total capacity (MW), Total energy per unit, Revenue per unit, Cost per unit, On-shore P/L\n",
    "file = open('onshore.csv', 'r')\n",
    "solar = file.readlines()\n",
    "for line in solar:\n",
    "    line.strip('\\n')\n",
    "    columns = line.split(',')\n",
    "    locations[columns[0]]['on-shore wind'] = [float(columns[1])*onshore_wind_load_factor*float(columns[5]),float(columns[1])*float(columns[6])]\n",
    "file.close()\n",
    "\n",
    "# .csv columns: Area split for the UK, Number of units per region, Total energy (GWh/year), Total capacity (MW), Total energy per unit, Revenue per unit, Cost per unit, Off-shore P/L\n",
    "file = open('offshore.csv', 'r')\n",
    "solar = file.readlines()\n",
    "for line in solar:\n",
    "    line.strip('\\n')\n",
    "    columns = line.split(',')\n",
    "    locations[columns[0]]['off-shore wind'] = [float(columns[1])*offshore_wind_load_factor*float(columns[5]),float(columns[1])*float(columns[6])]\n",
    "file.close()"
   ]
  }
 ],
 "metadata": {
  "language_info": {
   "name": "python"
  },
  "orig_nbformat": 4
 },
 "nbformat": 4,
 "nbformat_minor": 2
}
